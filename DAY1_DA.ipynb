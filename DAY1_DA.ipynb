{
  "nbformat": 4,
  "nbformat_minor": 0,
  "metadata": {
    "colab": {
      "provenance": []
    },
    "kernelspec": {
      "name": "python3",
      "display_name": "Python 3"
    },
    "language_info": {
      "name": "python"
    }
  },
  "cells": [
    {
      "cell_type": "code",
      "execution_count": null,
      "metadata": {
        "colab": {
          "base_uri": "https://localhost:8080/"
        },
        "id": "w77KIi4YTf85",
        "outputId": "d9f74665-5272-4090-fccb-c99c67cd795e"
      },
      "outputs": [
        {
          "output_type": "stream",
          "name": "stdout",
          "text": [
            "its day 1\n"
          ]
        }
      ],
      "source": [
        "#variable\n",
        "a=1\n",
        "print(\"its day\",a)\n"
      ]
    },
    {
      "cell_type": "code",
      "source": [
        "#Arthmetic operation on two variables\n",
        "a=int(input(\"enter a: \"))\n",
        "b=int(input(\"enter b: \"))\n",
        "print(\"sum is\",a+b)\n",
        "print(\"Difference is :\",a-b)\n",
        "print(\"product is :\",a*b)\n",
        "print(\"Quoifient is : \",a/b)\n",
        "print(\"Remainder is :\",a%b)\n",
        "print(\"Power is :\",pow(a,b))\n",
        "print(\"Floor division :\",a//b)"
      ],
      "metadata": {
        "colab": {
          "base_uri": "https://localhost:8080/"
        },
        "id": "bx8CJ69FU1f2",
        "outputId": "e84cf307-bf29-4a51-c6a8-9331d914001a"
      },
      "execution_count": null,
      "outputs": [
        {
          "output_type": "stream",
          "name": "stdout",
          "text": [
            "enter a: 200\n",
            "enter b: 20\n",
            "sum is 220\n",
            "Difference is : 180\n",
            "product is : 4000\n",
            "Quoifient is :  10.0\n",
            "Remainder is : 0\n",
            "Power is : 10485760000000000000000000000000000000000000000\n",
            "Floor division : 10\n"
          ]
        }
      ]
    },
    {
      "cell_type": "code",
      "source": [
        "#Take a salary from the user if the sal is more than 50 thusand and there is 10% tax print his final salary\n",
        "a=int(input(\"enter the salary :\"))\n",
        "if a<50000:\n",
        "  print(\"User salary is :\",a)\n",
        "else:\n",
        "  c=a*0.10\n",
        "  v=a-c\n",
        "  print(\"salary is :\",v)"
      ],
      "metadata": {
        "colab": {
          "base_uri": "https://localhost:8080/"
        },
        "id": "I82YPMflVqLB",
        "outputId": "3b33b7e2-46e3-4c04-bf09-d0a916f78e75"
      },
      "execution_count": null,
      "outputs": [
        {
          "output_type": "stream",
          "name": "stdout",
          "text": [
            "enter the salary :50000\n",
            "salary is : 45000.0\n"
          ]
        }
      ]
    },
    {
      "cell_type": "code",
      "source": [
        "a=int(input(\"Enter your salary :\"))\n",
        "if a<50000 :\n",
        "  print(\"your final salary is :\",a-(a*0.05))\n",
        "elif a>=50000 and a<70000:\n",
        "  print(\"your final salary is :\",a-(a*0.10))\n",
        "elif a>=70000 and a<100000:\n",
        "  print(\"your final salary is :\",a-(a*0.12))\n",
        "else:\n",
        "  print(\"your are promoted to next level \")"
      ],
      "metadata": {
        "colab": {
          "base_uri": "https://localhost:8080/"
        },
        "id": "W-vGgzyF2F3d",
        "outputId": "d90e8151-af76-4f5f-db35-b24872ba74a8"
      },
      "execution_count": null,
      "outputs": [
        {
          "output_type": "stream",
          "name": "stdout",
          "text": [
            "Enter your salary :100000\n",
            "your are promoted to next level \n"
          ]
        }
      ]
    },
    {
      "cell_type": "code",
      "source": [
        "a=7\n",
        "b=9\n",
        "print(a==b)\n",
        "print(a<b)\n",
        "print(a>b)\n",
        "print(a<=b)\n",
        "print(a>=b)"
      ],
      "metadata": {
        "colab": {
          "base_uri": "https://localhost:8080/"
        },
        "id": "gsjCpNtO7ID1",
        "outputId": "f9a8a0d2-0bc6-406e-c1d5-ae8e2cbbea92"
      },
      "execution_count": null,
      "outputs": [
        {
          "output_type": "stream",
          "name": "stdout",
          "text": [
            "False\n",
            "True\n",
            "False\n",
            "True\n",
            "False\n"
          ]
        }
      ]
    },
    {
      "cell_type": "code",
      "source": [
        "a=6\n",
        "b=9\n",
        "print((a<b) and (a!=b))\n",
        "print((a<b) or (a!=b))"
      ],
      "metadata": {
        "colab": {
          "base_uri": "https://localhost:8080/"
        },
        "id": "Enop3cfe7zET",
        "outputId": "9e7f309a-8c17-4dd0-fe8d-c321ea857ea9"
      },
      "execution_count": null,
      "outputs": [
        {
          "output_type": "stream",
          "name": "stdout",
          "text": [
            "True\n",
            "True\n"
          ]
        }
      ]
    },
    {
      "cell_type": "code",
      "source": [
        "a=int(input(\"enter a\"))\n",
        "for i in range (10,0,-1):\n",
        "  print(a,\"X\",i,\"=\",(a*i))"
      ],
      "metadata": {
        "colab": {
          "base_uri": "https://localhost:8080/"
        },
        "id": "AO0eVIhvgI9Z",
        "outputId": "471656de-0db8-42db-9c10-5adb473c41ea"
      },
      "execution_count": null,
      "outputs": [
        {
          "output_type": "stream",
          "name": "stdout",
          "text": [
            "enter a11\n",
            "11 X 10 = 110\n",
            "11 X 9 = 99\n",
            "11 X 8 = 88\n",
            "11 X 7 = 77\n",
            "11 X 6 = 66\n",
            "11 X 5 = 55\n",
            "11 X 4 = 44\n",
            "11 X 3 = 33\n",
            "11 X 2 = 22\n",
            "11 X 1 = 11\n"
          ]
        }
      ]
    },
    {
      "cell_type": "code",
      "source": [
        "a=int(input(\"eneter a value\"))\n",
        "i=20\n",
        "while (i>=10):\n",
        "  print(a,\"X\",i,\"=\",(a*i))\n",
        "  i=(i-1)"
      ],
      "metadata": {
        "colab": {
          "base_uri": "https://localhost:8080/"
        },
        "id": "uF5Moj_7q_vZ",
        "outputId": "185cb8fd-c1c9-484e-9893-864db18c30cc"
      },
      "execution_count": null,
      "outputs": [
        {
          "output_type": "stream",
          "name": "stdout",
          "text": [
            "eneter a value999\n",
            "999 X 20 = 19980\n",
            "999 X 19 = 18981\n",
            "999 X 18 = 17982\n",
            "999 X 17 = 16983\n",
            "999 X 16 = 15984\n",
            "999 X 15 = 14985\n",
            "999 X 14 = 13986\n",
            "999 X 13 = 12987\n",
            "999 X 12 = 11988\n",
            "999 X 11 = 10989\n",
            "999 X 10 = 9990\n"
          ]
        }
      ]
    },
    {
      "cell_type": "code",
      "source": [
        "#create a list\n",
        "l1=[1,\"kill\",98,6.5,True]\n",
        "for i in l1:\n",
        "  print(i)"
      ],
      "metadata": {
        "colab": {
          "base_uri": "https://localhost:8080/"
        },
        "id": "9uiRRf6usRxz",
        "outputId": "db707837-a304-413a-f518-fd2882949f16"
      },
      "execution_count": null,
      "outputs": [
        {
          "output_type": "stream",
          "name": "stdout",
          "text": [
            "1\n",
            "kill\n",
            "98\n",
            "6.5\n",
            "True\n"
          ]
        }
      ]
    },
    {
      "cell_type": "code",
      "source": [
        "l1.append(\"boom\") #listname.append(element)\n",
        "print(l1)"
      ],
      "metadata": {
        "colab": {
          "base_uri": "https://localhost:8080/"
        },
        "id": "-_zq0jYYvTx_",
        "outputId": "d911fc74-df25-4f11-8ba6-e1057d6120cf"
      },
      "execution_count": null,
      "outputs": [
        {
          "output_type": "stream",
          "name": "stdout",
          "text": [
            "[1, 'kill', 98, 6.5, True, 'boom']\n"
          ]
        }
      ]
    },
    {
      "cell_type": "code",
      "source": [
        "l1.insert(4,\"oh\") #listname.insert(index,element)\n",
        "print(l1)"
      ],
      "metadata": {
        "colab": {
          "base_uri": "https://localhost:8080/"
        },
        "id": "aeWHDznsvfUP",
        "outputId": "1a9a0db9-905c-45e6-be9d-34270601d792"
      },
      "execution_count": null,
      "outputs": [
        {
          "output_type": "stream",
          "name": "stdout",
          "text": [
            "[1, 'kill', 98, 6.5, 'oh', True, 'boom']\n"
          ]
        }
      ]
    },
    {
      "cell_type": "code",
      "source": [
        "l2=[\"polo\",2.4,\"centerfruit\",\"boomer\",1]\n",
        "l1.extend(l2) #listname>extend(another listname)\n",
        "print(l1)"
      ],
      "metadata": {
        "colab": {
          "base_uri": "https://localhost:8080/"
        },
        "id": "YEsu8KkDwHRe",
        "outputId": "7ef176a7-03c4-46c1-9e25-36042616be8f"
      },
      "execution_count": null,
      "outputs": [
        {
          "output_type": "stream",
          "name": "stdout",
          "text": [
            "[1, 'kill', 98, 6.5, 'oh', True, 'boom', 'polo', 2.4, 'centerfruit', 'boomer', 1]\n"
          ]
        }
      ]
    },
    {
      "cell_type": "code",
      "source": [
        "l2.remove(\"polo\") #listname.remove(element)\n",
        "print(l2)"
      ],
      "metadata": {
        "colab": {
          "base_uri": "https://localhost:8080/"
        },
        "id": "gJG8e85hxS-Q",
        "outputId": "6d633e78-9f48-4a92-8d08-c581851e143c"
      },
      "execution_count": null,
      "outputs": [
        {
          "output_type": "stream",
          "name": "stdout",
          "text": [
            "[2.4, 'centerfruit', 'boomer']\n"
          ]
        }
      ]
    },
    {
      "cell_type": "code",
      "source": [
        "l2.pop(1) #listname.pop(index)\n",
        "print(l2)"
      ],
      "metadata": {
        "colab": {
          "base_uri": "https://localhost:8080/"
        },
        "id": "J6J96Ebyzd7x",
        "outputId": "85c13ad6-c58d-4767-c4d9-3db379d9f490"
      },
      "execution_count": null,
      "outputs": [
        {
          "output_type": "stream",
          "name": "stdout",
          "text": [
            "[2.4, 'boomer']\n"
          ]
        }
      ]
    },
    {
      "cell_type": "code",
      "source": [
        "l2.clear() #listname.clear()\n",
        "print(l2)"
      ],
      "metadata": {
        "colab": {
          "base_uri": "https://localhost:8080/"
        },
        "id": "kO8tkEPYzqIq",
        "outputId": "c436ebcd-6059-4106-fb79-34c2c4acf203"
      },
      "execution_count": null,
      "outputs": [
        {
          "output_type": "stream",
          "name": "stdout",
          "text": [
            "[]\n"
          ]
        }
      ]
    },
    {
      "cell_type": "code",
      "source": [
        "#create a list of 10 integer elements and print their squares\n",
        "l1=[]\n",
        "n=int(input(\"enter n\"))\n",
        "for i in range (1,n+1):\n",
        "  l1.append(i)\n",
        "l2=[i**2 for i in l1] # newlist=[outputlogic for variable in listname]\n",
        "print(l2)"
      ],
      "metadata": {
        "colab": {
          "base_uri": "https://localhost:8080/"
        },
        "id": "3pbThUMZ0N3-",
        "outputId": "ebc26cdb-bd9f-4fdb-e209-67f84dba900a"
      },
      "execution_count": null,
      "outputs": [
        {
          "output_type": "stream",
          "name": "stdout",
          "text": [
            "enter n20\n",
            "[1, 4, 9, 16, 25, 36, 49, 64, 81, 100, 121, 144, 169, 196, 225, 256, 289, 324, 361, 400]\n"
          ]
        }
      ]
    },
    {
      "cell_type": "code",
      "source": [
        "l1=[]\n",
        "n=int(input(\"enter n\"))\n",
        "for i in range (n,n+10):\n",
        "  l1.append(i)\n",
        "l2=[i**2 for i in l1 if i>=50] # newlist=[outputlogic for variable in listname]\n",
        "print(l2)"
      ],
      "metadata": {
        "colab": {
          "base_uri": "https://localhost:8080/"
        },
        "id": "n60tKMdb2_uy",
        "outputId": "36611608-969a-4f0c-b8ca-4bb41888d22d"
      },
      "execution_count": null,
      "outputs": [
        {
          "output_type": "stream",
          "name": "stdout",
          "text": [
            "enter n45\n",
            "[2500, 2601, 2704, 2809, 2916]\n"
          ]
        }
      ]
    },
    {
      "cell_type": "code",
      "source": [
        "l1=[23,67,12,34,69]\n",
        "l2=[i*i if i>50 else \"x\" for i in l1]\n",
        "print(l2)"
      ],
      "metadata": {
        "colab": {
          "base_uri": "https://localhost:8080/"
        },
        "id": "Hj54GkqGKJLq",
        "outputId": "31c08f33-77bf-4074-b5d8-cbd8c368d643"
      },
      "execution_count": null,
      "outputs": [
        {
          "output_type": "stream",
          "name": "stdout",
          "text": [
            "['x', 4489, 'x', 'x', 4761]\n"
          ]
        }
      ]
    },
    {
      "cell_type": "code",
      "source": [
        "salary=[50000,34000,100000,0,15000]\n",
        "l=[sal-(sal*0.1) if sal<=50000 else sal-(sal*0.15) for sal in salary]\n",
        "print(l)"
      ],
      "metadata": {
        "colab": {
          "base_uri": "https://localhost:8080/"
        },
        "id": "byHClvmFKPHu",
        "outputId": "316dce02-9bbc-4709-d20c-dfc656532c32"
      },
      "execution_count": null,
      "outputs": [
        {
          "output_type": "stream",
          "name": "stdout",
          "text": [
            "[45000.0, 30600.0, 85000.0, 0.0, 13500.0]\n"
          ]
        }
      ]
    },
    {
      "cell_type": "code",
      "source": [
        "#create a dictionary\n",
        "dict1={\"mentor\":\"ram\",\"mentor\":\"krish\",2:\"dileep\"}\n",
        "print(dict1)"
      ],
      "metadata": {
        "colab": {
          "base_uri": "https://localhost:8080/"
        },
        "id": "uTr1_MbXLlWN",
        "outputId": "62ac314c-fff3-493f-a7df-579cb3ab8bc0"
      },
      "execution_count": null,
      "outputs": [
        {
          "output_type": "stream",
          "name": "stdout",
          "text": [
            "{'mentor': 'krish', 2: 'dileep'}\n"
          ]
        }
      ]
    },
    {
      "cell_type": "code",
      "source": [
        "dict1={\"mentor\":\"ram\",\"co\":\"krish\",2:\"dileep\"}\n",
        "print(dict1.keys())"
      ],
      "metadata": {
        "colab": {
          "base_uri": "https://localhost:8080/"
        },
        "id": "wgOnl8-9OgX5",
        "outputId": "bffb9b4b-756d-47e9-c27a-1f4d2ab7cafb"
      },
      "execution_count": null,
      "outputs": [
        {
          "output_type": "stream",
          "name": "stdout",
          "text": [
            "dict_keys(['mentor', 'co', 2])\n"
          ]
        }
      ]
    },
    {
      "cell_type": "code",
      "source": [
        "dict1={\"mentor\":\"ram\",\"co\":\"krish\",2:\"dileep\"}\n",
        "print(dict1.values())"
      ],
      "metadata": {
        "colab": {
          "base_uri": "https://localhost:8080/"
        },
        "id": "D5JJy2NcOytl",
        "outputId": "eecb1e06-8575-4f55-c849-56988834d0ed"
      },
      "execution_count": null,
      "outputs": [
        {
          "output_type": "stream",
          "name": "stdout",
          "text": [
            "dict_values(['ram', 'krish', 'dileep'])\n"
          ]
        }
      ]
    },
    {
      "cell_type": "code",
      "source": [
        "dict1={\"mentor\":\"ram\",\"co\":\"krish\",2:\"dileep\"}\n",
        "print(dict1[2])\n"
      ],
      "metadata": {
        "colab": {
          "base_uri": "https://localhost:8080/"
        },
        "id": "zIhzOYXdO21t",
        "outputId": "380ade1c-cd75-4a1d-82c4-65538169875b"
      },
      "execution_count": null,
      "outputs": [
        {
          "output_type": "stream",
          "name": "stdout",
          "text": [
            "dileep\n"
          ]
        }
      ]
    },
    {
      "cell_type": "code",
      "source": [
        "dict1={\"mentor\":\"ram\",\"co\":\"krish\",2:\"dileep\"}\n",
        "print(dict1[\"mentor\"])"
      ],
      "metadata": {
        "colab": {
          "base_uri": "https://localhost:8080/"
        },
        "id": "IO8c8XDJPYNu",
        "outputId": "86118112-b045-454e-f0d7-a0ac60911c57"
      },
      "execution_count": null,
      "outputs": [
        {
          "output_type": "stream",
          "name": "stdout",
          "text": [
            "ram\n"
          ]
        }
      ]
    },
    {
      "cell_type": "code",
      "source": [
        "dict1={9:{\"mentor\":\"ram\",\"co\":\"krish\",2:\"dileep\"},8:{1:\"kiran\",3:\"chaitu\"},7:{4:\"cse\",5:\"ece\"}}\n",
        "print(dict1[8][3])"
      ],
      "metadata": {
        "colab": {
          "base_uri": "https://localhost:8080/"
        },
        "id": "Q15YsjqiPh4H",
        "outputId": "df7fcf1e-5872-4afe-831a-618e73b96efb"
      },
      "execution_count": null,
      "outputs": [
        {
          "output_type": "stream",
          "name": "stdout",
          "text": [
            "chaitu\n"
          ]
        }
      ]
    },
    {
      "cell_type": "code",
      "source": [
        "dict1={9:{\"mentor\":\"ram\",\"co\":\"krish\",2:\"dileep\"},8:{1:\"kiran\",3:\"chaitu\"},7:{4:\"cse\",5:\"ece\"}}\n",
        "print(\"branch is\",dict1[7][4],\"name is\",dict1[8][3])"
      ],
      "metadata": {
        "colab": {
          "base_uri": "https://localhost:8080/"
        },
        "id": "-voHwuMwQkRb",
        "outputId": "1a61482d-6d0b-4f0b-8fb1-24269163c17f"
      },
      "execution_count": null,
      "outputs": [
        {
          "output_type": "stream",
          "name": "stdout",
          "text": [
            "branch is cse name is chaitu\n"
          ]
        }
      ]
    },
    {
      "cell_type": "code",
      "source": [
        "l1=[1,2,3,4]\n",
        "l2=[\"kiran\",\"chaitu\",\"mani\",\"tarun\"]\n",
        "print(dict(zip(l1,l2)))"
      ],
      "metadata": {
        "colab": {
          "base_uri": "https://localhost:8080/"
        },
        "id": "TdHM_iPXRgB0",
        "outputId": "bcd44ee2-954f-4378-9699-fe39c62040c6"
      },
      "execution_count": null,
      "outputs": [
        {
          "output_type": "stream",
          "name": "stdout",
          "text": [
            "{1: 'kiran', 2: 'chaitu', 3: 'mani', 4: 'tarun'}\n"
          ]
        }
      ]
    },
    {
      "cell_type": "code",
      "source": [
        "#NUMPY\n",
        "import numpy as np\n",
        "a=np.array([1,2,3,4]) #1D Array\n",
        "print(a.ndim)\n",
        "print(a.shape)\n",
        "print(a)"
      ],
      "metadata": {
        "colab": {
          "base_uri": "https://localhost:8080/"
        },
        "id": "8ViuBe9NTqjp",
        "outputId": "44434e17-b641-403f-df21-195788e20af5"
      },
      "execution_count": null,
      "outputs": [
        {
          "output_type": "stream",
          "name": "stdout",
          "text": [
            "1\n",
            "(4,)\n",
            "[1 2 3 4]\n"
          ]
        }
      ]
    },
    {
      "cell_type": "code",
      "source": [
        "import numpy as np\n",
        "a=np.array([[1,2,3,4],[5,6,7,8]]) #2D Array\n",
        "print(a.ndim)\n",
        "print(a.shape)\n",
        "print(a)"
      ],
      "metadata": {
        "colab": {
          "base_uri": "https://localhost:8080/"
        },
        "id": "qwlX_AaAfTmE",
        "outputId": "cf3a232a-a011-46f6-fc45-f5e632a4e737"
      },
      "execution_count": null,
      "outputs": [
        {
          "output_type": "stream",
          "name": "stdout",
          "text": [
            "2\n",
            "(2, 4)\n",
            "[[1 2 3 4]\n",
            " [5 6 7 8]]\n"
          ]
        }
      ]
    },
    {
      "cell_type": "code",
      "source": [
        "import numpy as np\n",
        "a=np.array([[[1,2,3,4],[5,6,7,8],[9,10,11,12],],[[13,14,15,16],[17,18,19,20],[21,2,23,24]]])\n",
        "print(a.ndim)\n",
        "print(a.shape)\n",
        "print(a)"
      ],
      "metadata": {
        "colab": {
          "base_uri": "https://localhost:8080/"
        },
        "id": "TPQIx32zgqIy",
        "outputId": "517494a5-8110-4b5d-d2be-ba8a9cf46777"
      },
      "execution_count": null,
      "outputs": [
        {
          "output_type": "stream",
          "name": "stdout",
          "text": [
            "3\n",
            "(2, 3, 4)\n",
            "[[[ 1  2  3  4]\n",
            "  [ 5  6  7  8]\n",
            "  [ 9 10 11 12]]\n",
            "\n",
            " [[13 14 15 16]\n",
            "  [17 18 19 20]\n",
            "  [21  2 23 24]]]\n"
          ]
        }
      ]
    },
    {
      "cell_type": "code",
      "source": [
        "a=np.ones((2,4,3))\n",
        "print(a)"
      ],
      "metadata": {
        "colab": {
          "base_uri": "https://localhost:8080/"
        },
        "id": "DCgVN9lijiqJ",
        "outputId": "45bf850a-a419-43a0-ca7a-97c7830559b9"
      },
      "execution_count": null,
      "outputs": [
        {
          "output_type": "stream",
          "name": "stdout",
          "text": [
            "[[[1. 1. 1.]\n",
            "  [1. 1. 1.]\n",
            "  [1. 1. 1.]\n",
            "  [1. 1. 1.]]\n",
            "\n",
            " [[1. 1. 1.]\n",
            "  [1. 1. 1.]\n",
            "  [1. 1. 1.]\n",
            "  [1. 1. 1.]]]\n"
          ]
        }
      ]
    },
    {
      "cell_type": "code",
      "source": [
        "a=np.zeros((2,4,3))\n",
        "print(a)"
      ],
      "metadata": {
        "colab": {
          "base_uri": "https://localhost:8080/"
        },
        "id": "lA6feZu9jvJo",
        "outputId": "2bf3732f-8ac1-46f5-ec57-1b2a29862b50"
      },
      "execution_count": null,
      "outputs": [
        {
          "output_type": "stream",
          "name": "stdout",
          "text": [
            "[[[0. 0. 0.]\n",
            "  [0. 0. 0.]\n",
            "  [0. 0. 0.]\n",
            "  [0. 0. 0.]]\n",
            "\n",
            " [[0. 0. 0.]\n",
            "  [0. 0. 0.]\n",
            "  [0. 0. 0.]\n",
            "  [0. 0. 0.]]]\n"
          ]
        }
      ]
    },
    {
      "cell_type": "code",
      "source": [
        "a=np.eye(4)\n",
        "print(a)"
      ],
      "metadata": {
        "colab": {
          "base_uri": "https://localhost:8080/"
        },
        "id": "SCCiVKiCkTrI",
        "outputId": "995ce187-ac5e-4269-ff7e-84fd8bd08219"
      },
      "execution_count": null,
      "outputs": [
        {
          "output_type": "stream",
          "name": "stdout",
          "text": [
            "[[1. 0. 0. 0.]\n",
            " [0. 1. 0. 0.]\n",
            " [0. 0. 1. 0.]\n",
            " [0. 0. 0. 1.]]\n"
          ]
        }
      ]
    },
    {
      "cell_type": "code",
      "source": [
        "#print all  the  numbers are divisible by 8 using arange funcion.\n",
        "a=np.arange(8,1001,8)\n",
        "print(a)"
      ],
      "metadata": {
        "colab": {
          "base_uri": "https://localhost:8080/"
        },
        "id": "6rmCM7h5lE-L",
        "outputId": "93e5675f-bd5c-449d-a23f-55a9064fe1ec"
      },
      "execution_count": null,
      "outputs": [
        {
          "output_type": "stream",
          "name": "stdout",
          "text": [
            "[   8   16   24   32   40   48   56   64   72   80   88   96  104  112\n",
            "  120  128  136  144  152  160  168  176  184  192  200  208  216  224\n",
            "  232  240  248  256  264  272  280  288  296  304  312  320  328  336\n",
            "  344  352  360  368  376  384  392  400  408  416  424  432  440  448\n",
            "  456  464  472  480  488  496  504  512  520  528  536  544  552  560\n",
            "  568  576  584  592  600  608  616  624  632  640  648  656  664  672\n",
            "  680  688  696  704  712  720  728  736  744  752  760  768  776  784\n",
            "  792  800  808  816  824  832  840  848  856  864  872  880  888  896\n",
            "  904  912  920  928  936  944  952  960  968  976  984  992 1000]\n"
          ]
        }
      ]
    },
    {
      "cell_type": "code",
      "source": [
        "#splitting a range into n numbers with common differences\n",
        "a=np.linspace(39,59,30)\n",
        "print(a)"
      ],
      "metadata": {
        "colab": {
          "base_uri": "https://localhost:8080/"
        },
        "id": "4y8NvNSNnB3e",
        "outputId": "ab892d9a-bab7-484e-84ac-1fc621fb6323"
      },
      "execution_count": null,
      "outputs": [
        {
          "output_type": "stream",
          "name": "stdout",
          "text": [
            "[39.         39.68965517 40.37931034 41.06896552 41.75862069 42.44827586\n",
            " 43.13793103 43.82758621 44.51724138 45.20689655 45.89655172 46.5862069\n",
            " 47.27586207 47.96551724 48.65517241 49.34482759 50.03448276 50.72413793\n",
            " 51.4137931  52.10344828 52.79310345 53.48275862 54.17241379 54.86206897\n",
            " 55.55172414 56.24137931 56.93103448 57.62068966 58.31034483 59.        ]\n"
          ]
        }
      ]
    },
    {
      "cell_type": "markdown",
      "source": [
        "HOME WORK (TUPLES AND SETS)"
      ],
      "metadata": {
        "id": "sfJEcxqAgxRN"
      }
    },
    {
      "cell_type": "code",
      "source": [
        "#tuples,collab file,documentation,qr codes task\n",
        "tuple1=(10,\"kiran\",24.8,\"joe\",True)#creating a tuple\n",
        "print(tuple1)"
      ],
      "metadata": {
        "id": "dJDqO0ynn6Uo",
        "colab": {
          "base_uri": "https://localhost:8080/"
        },
        "outputId": "1b9bbfb8-45da-4480-ee17-a13cd88d4ab6"
      },
      "execution_count": null,
      "outputs": [
        {
          "output_type": "stream",
          "name": "stdout",
          "text": [
            "(10, 'kiran', 24.8, 'joe', True)\n"
          ]
        }
      ]
    },
    {
      "cell_type": "code",
      "source": [
        "#tuple slicing and acessing the elements from tuples\n",
        "print(tuple1[0:])\n",
        "print(tuple1[2])\n",
        "print(tuple1[-3:-1])\n",
        "print(tuple1[ ::-1])\n",
        "print(tuple1[2:4])\n",
        "print(tuple1[-5:-1])\n",
        "print(tuple1[2:-1])"
      ],
      "metadata": {
        "colab": {
          "base_uri": "https://localhost:8080/"
        },
        "id": "yUuYOhW6dZ_m",
        "outputId": "760b407a-2604-446e-e6e0-33a1f77319d8"
      },
      "execution_count": null,
      "outputs": [
        {
          "output_type": "stream",
          "name": "stdout",
          "text": [
            "(10, 'kiran', 24.8, 'joe', True)\n",
            "24.8\n",
            "(24.8, 'joe')\n",
            "(True, 'joe', 24.8, 'kiran', 10)\n",
            "(24.8, 'joe')\n",
            "(10, 'kiran', 24.8, 'joe')\n",
            "(24.8, 'joe')\n"
          ]
        }
      ]
    },
    {
      "cell_type": "code",
      "source": [
        "#tuple updation\n",
        "l=list(tuple1)\n",
        "print(tuple1)\n",
        "l[2]=\"orange\"\n",
        "tuple_updated=tuple(l)\n",
        "print(tuple_updated)"
      ],
      "metadata": {
        "colab": {
          "base_uri": "https://localhost:8080/"
        },
        "id": "IAL6I50_Z3VY",
        "outputId": "fdd2f18b-331a-4f54-84f6-3573c4ee7c17"
      },
      "execution_count": null,
      "outputs": [
        {
          "output_type": "stream",
          "name": "stdout",
          "text": [
            "(10, 'kiran', 24.8, 'joe', True)\n",
            "(10, 'kiran', 'orange', 'joe', True)\n"
          ]
        }
      ]
    },
    {
      "cell_type": "code",
      "source": [
        "#tuple deletion\n",
        "list1=list(tuple1)\n",
        "print(tuple1)\n",
        "list1.pop()\n",
        "list1.pop(0)\n",
        "list1.remove(\"joe\")\n",
        "tuple_updated=tuple(list1)\n",
        "print(tuple_updated)\n"
      ],
      "metadata": {
        "colab": {
          "base_uri": "https://localhost:8080/"
        },
        "id": "0qI0iwrRf_EC",
        "outputId": "62f553ba-7ef0-4071-bfc3-5abea3c559bb"
      },
      "execution_count": null,
      "outputs": [
        {
          "output_type": "stream",
          "name": "stdout",
          "text": [
            "(10, 'kiran', 24.8, 'joe', True)\n",
            "('kiran', 24.8)\n"
          ]
        }
      ]
    },
    {
      "cell_type": "code",
      "source": [
        "#clear the tuple\n",
        "list1=list(tuple1)\n",
        "print(tuple1)\n",
        "list1.clear()\n",
        "tuple_updated=tuple(list1)\n",
        "print(tuple_updated)"
      ],
      "metadata": {
        "colab": {
          "base_uri": "https://localhost:8080/"
        },
        "id": "HPjJlzV_uVaM",
        "outputId": "3f6c090c-c240-4b18-8c94-cc2d42a689cd"
      },
      "execution_count": null,
      "outputs": [
        {
          "output_type": "stream",
          "name": "stdout",
          "text": [
            "(10, 'kiran', 24.8, 'joe', True)\n",
            "()\n"
          ]
        }
      ]
    },
    {
      "cell_type": "code",
      "source": [
        "#inserting the element\n",
        "list1=list(tuple1)\n",
        "print(tuple1)\n",
        "list1.insert(4,\"orange\")\n",
        "list1.append(5)\n",
        "tuple_updated=tuple(list1)\n",
        "print(tuple_updated)"
      ],
      "metadata": {
        "colab": {
          "base_uri": "https://localhost:8080/"
        },
        "id": "bZplj98JvMeO",
        "outputId": "2175862c-eb44-4f1b-e3a7-656644530612"
      },
      "execution_count": null,
      "outputs": [
        {
          "output_type": "stream",
          "name": "stdout",
          "text": [
            "(10, 'kiran', 24.8, 'joe', True)\n",
            "(10, 'kiran', 24.8, 'joe', 'orange', True, 5)\n"
          ]
        }
      ]
    },
    {
      "cell_type": "code",
      "source": [
        "#tuple operations\n",
        "tuple1=(1,8,5,3,88,32,5)\n",
        "print(tuple1.count(\"88\"))\n",
        "print(tuple1.index(1))\n",
        "print(len(tuple1))\n",
        "print(\"sorted tuple is\",sorted(tuple1))\n",
        "tuple2=(tuple1)*3\n",
        "print(tuple2)"
      ],
      "metadata": {
        "colab": {
          "base_uri": "https://localhost:8080/"
        },
        "id": "OYjIQAvev4sc",
        "outputId": "28de40cf-4f42-4766-ccaf-b4d7afc6afe4"
      },
      "execution_count": null,
      "outputs": [
        {
          "output_type": "stream",
          "name": "stdout",
          "text": [
            "0\n",
            "0\n",
            "7\n",
            "sorted tuple is [1, 3, 5, 5, 8, 32, 88]\n",
            "(1, 8, 5, 3, 88, 32, 5, 1, 8, 5, 3, 88, 32, 5, 1, 8, 5, 3, 88, 32, 5)\n"
          ]
        }
      ]
    },
    {
      "cell_type": "code",
      "source": [
        "#dictionary using two tuple\n",
        "tuple1=(1,8.9,\"kiran\",\"chaitu\",True)\n",
        "tuple2=(\"rno\",\"percent\",\"student1\",\"student2\",\"verification\")\n",
        "print(dict(zip(tuple2,tuple1)))"
      ],
      "metadata": {
        "colab": {
          "base_uri": "https://localhost:8080/"
        },
        "id": "VRRwg4cww_tL",
        "outputId": "c2ecb809-2b9a-4d2b-cff7-3e9c16df6617"
      },
      "execution_count": null,
      "outputs": [
        {
          "output_type": "stream",
          "name": "stdout",
          "text": [
            "{'rno': 1, 'percent': 8.9, 'student1': 'kiran', 'student2': 'chaitu', 'verification': True}\n"
          ]
        }
      ]
    },
    {
      "cell_type": "code",
      "source": [
        "# Program to perform different set operations\n",
        "A = {0, 2, 4, 6, 8};\n",
        "B = {1, 2, 3, 4, 5};\n",
        "\n",
        "# union\n",
        "print(\"Union :\", A.union(B))\n",
        "\n",
        "# intersection\n",
        "print(\"Intersection :\", A.intersection(B))\n",
        "\n",
        "# difference\n",
        "print(\"Difference :\", A.difference(B))\n",
        "\n",
        "# symmetric difference\n",
        "print(\"Symmetric difference :\", A.symmetric_difference(B))\n",
        "\n",
        "#subset or not\n",
        "print(A.issubset(B))\n"
      ],
      "metadata": {
        "colab": {
          "base_uri": "https://localhost:8080/"
        },
        "id": "oMWHRjvccBVD",
        "outputId": "3ab8e781-dc9c-4b05-a890-807bc96cd181"
      },
      "execution_count": null,
      "outputs": [
        {
          "output_type": "stream",
          "name": "stdout",
          "text": [
            "Union : {0, 1, 2, 3, 4, 5, 6, 8}\n",
            "Intersection : {2, 4}\n",
            "Difference : {0, 8, 6}\n",
            "Symmetric difference : {0, 1, 3, 5, 6, 8}\n",
            "False\n"
          ]
        }
      ]
    },
    {
      "cell_type": "code",
      "source": [
        "# create a set of integer type\n",
        "student_id = {112, 114, 116, 118, 115}\n",
        "print('Student ID:', student_id)\n",
        "\n",
        "# create a set of string type\n",
        "vowel_letters = {'a', 'e', 'i', 'o', 'u'}\n",
        "print('Vowel Letters:', vowel_letters)\n",
        "\n",
        "# create a set of different data types\n",
        "mixed = {'Hello', 101, -2, 'Bye'}\n",
        "print('Set of mixed data types:', mixed)"
      ],
      "metadata": {
        "colab": {
          "base_uri": "https://localhost:8080/"
        },
        "id": "0nJZ2sY9cWI-",
        "outputId": "5d1c23c8-c45a-47ea-e87a-804184c99c0e"
      },
      "execution_count": null,
      "outputs": [
        {
          "output_type": "stream",
          "name": "stdout",
          "text": [
            "Student ID: {112, 114, 115, 116, 118}\n",
            "Vowel Letters: {'i', 'a', 'u', 'o', 'e'}\n",
            "Set of mixed data types: {'Bye', 'Hello', 101, -2}\n"
          ]
        }
      ]
    },
    {
      "cell_type": "code",
      "source": [
        "set1 = {\"apple\", \"banana\", \"cherry\", \"apple\"}#set with duplicate elements\n",
        "print(set1)"
      ],
      "metadata": {
        "colab": {
          "base_uri": "https://localhost:8080/"
        },
        "id": "o5O3ptIWdFzb",
        "outputId": "920d9f69-cd0d-499f-dd53-f3266533007b"
      },
      "execution_count": null,
      "outputs": [
        {
          "output_type": "stream",
          "name": "stdout",
          "text": [
            "{'apple', 'cherry', 'banana'}\n"
          ]
        }
      ]
    }
  ]
}