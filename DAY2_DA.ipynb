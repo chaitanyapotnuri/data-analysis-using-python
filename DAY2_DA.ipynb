{
  "nbformat": 4,
  "nbformat_minor": 0,
  "metadata": {
    "colab": {
      "provenance": []
    },
    "kernelspec": {
      "name": "python3",
      "display_name": "Python 3"
    },
    "language_info": {
      "name": "python"
    }
  },
  "cells": [
    {
      "cell_type": "code",
      "execution_count": null,
      "metadata": {
        "id": "aaGD0gtKbsoM",
        "colab": {
          "base_uri": "https://localhost:8080/"
        },
        "outputId": "463d0d41-e84a-4c07-ff64-09a28d2b15e4"
      },
      "outputs": [
        {
          "output_type": "stream",
          "name": "stdout",
          "text": [
            "[[ 1  2  3  4]\n",
            " [ 5  6  7  8]\n",
            " [ 9 10 11 12]]\n"
          ]
        }
      ],
      "source": [
        "import numpy as np\n",
        "a=np.arange(1,13).reshape(3,4)\n",
        "print((a))"
      ]
    },
    {
      "cell_type": "code",
      "source": [
        "import numpy as np\n",
        "b=np.linspace(1,13,12).reshape(3,4)\n",
        "print(b)"
      ],
      "metadata": {
        "colab": {
          "base_uri": "https://localhost:8080/"
        },
        "id": "BXNPN1LKhTA6",
        "outputId": "8319e976-297d-44a9-fd2b-5277e10c9aa3"
      },
      "execution_count": null,
      "outputs": [
        {
          "output_type": "stream",
          "name": "stdout",
          "text": [
            "[[ 1.          2.09090909  3.18181818  4.27272727]\n",
            " [ 5.36363636  6.45454545  7.54545455  8.63636364]\n",
            " [ 9.72727273 10.81818182 11.90909091 13.        ]]\n"
          ]
        }
      ]
    },
    {
      "cell_type": "code",
      "source": [
        "b=np.array([21,46,78,94,25,57,45,98]).reshape(2,2,2)# channges the shape of array\n",
        "print(b)"
      ],
      "metadata": {
        "colab": {
          "base_uri": "https://localhost:8080/"
        },
        "id": "NucF0Z6PiwBv",
        "outputId": "ce5c55be-0c15-4adc-a30d-0a8a6944e23a"
      },
      "execution_count": null,
      "outputs": [
        {
          "output_type": "stream",
          "name": "stdout",
          "text": [
            "[[[21 46]\n",
            "  [78 94]]\n",
            "\n",
            " [[25 57]\n",
            "  [45 98]]]\n"
          ]
        }
      ]
    },
    {
      "cell_type": "code",
      "source": [
        "#change the size of array\n",
        "(b.resize(2,2,2))\n",
        "print(b)"
      ],
      "metadata": {
        "colab": {
          "base_uri": "https://localhost:8080/"
        },
        "id": "OO6W1K5djZJh",
        "outputId": "8f8cd2e1-d170-40a4-9097-0c1524f73cc4"
      },
      "execution_count": null,
      "outputs": [
        {
          "output_type": "stream",
          "name": "stdout",
          "text": [
            "[[[21 46]\n",
            "  [78 94]]\n",
            "\n",
            " [[25 57]\n",
            "  [45 98]]]\n"
          ]
        }
      ]
    },
    {
      "cell_type": "markdown",
      "source": [
        "ARRAY OPERATIONS"
      ],
      "metadata": {
        "id": "JJQPmaVhk97B"
      }
    },
    {
      "cell_type": "code",
      "source": [
        "a=np.array([23,47,35,52,98,96])\n",
        "b=np.array([43,35,33,67,23,28])\n",
        "print(a-b)\n",
        "print(a+b)\n",
        "print(a*b)\n",
        "print(a/b)\n",
        "print(a//b)\n",
        "print(a%b)\n",
        "print(a==b)\n",
        "print(a>=b)"
      ],
      "metadata": {
        "colab": {
          "base_uri": "https://localhost:8080/"
        },
        "id": "0FXPfG_FkW5G",
        "outputId": "101f8200-9133-4375-e803-40f679cc1219"
      },
      "execution_count": null,
      "outputs": [
        {
          "output_type": "stream",
          "name": "stdout",
          "text": [
            "[-20  12   2 -15  75  68]\n",
            "[ 66  82  68 119 121 124]\n",
            "[ 989 1645 1155 3484 2254 2688]\n",
            "[0.53488372 1.34285714 1.06060606 0.7761194  4.26086957 3.42857143]\n",
            "[0 1 1 0 4 3]\n",
            "[23 12  2 52  6 12]\n",
            "[False False False False False False]\n",
            "[False  True  True False  True  True]\n"
          ]
        }
      ]
    },
    {
      "cell_type": "code",
      "source": [
        "b=np.array([21,46,78,94]).reshape(2,2)\n",
        "print(\"matrix a is:\")\n",
        "print(a)\n",
        "a=np.arange(1,5).reshape(2,2)\n",
        "print(\"matrix b is :\")\n",
        "print(b)\n",
        "print(\"product of two matrixes is\")\n",
        "print(a*b)# elements multiplication\n"
      ],
      "metadata": {
        "colab": {
          "base_uri": "https://localhost:8080/"
        },
        "id": "4Xf4q6G9lw9b",
        "outputId": "31822062-c9a0-44be-eadc-8f6763584c22"
      },
      "execution_count": null,
      "outputs": [
        {
          "output_type": "stream",
          "name": "stdout",
          "text": [
            "matrix a is:\n",
            "[[1 2]\n",
            " [3 4]]\n",
            "matrix b is :\n",
            "[[21 46]\n",
            " [78 94]]\n",
            "product of two matrixes is\n",
            "[[ 21  92]\n",
            " [234 376]]\n"
          ]
        }
      ]
    },
    {
      "cell_type": "code",
      "source": [
        "b=np.array([21,46,78,94]).reshape(2,2)\n",
        "print(\"matrix a is:\")\n",
        "print(a)\n",
        "a=np.arange(1,5).reshape(2,2)\n",
        "print(\"matrix b is :\")\n",
        "print(b)\n",
        "print(\"product of two matrixes is\")\n",
        "print(a@b)#matrix multplication\n"
      ],
      "metadata": {
        "colab": {
          "base_uri": "https://localhost:8080/"
        },
        "id": "lcMY0Hr8nd6l",
        "outputId": "dcef2ed3-49b9-40f1-b56d-8fd214f5e683"
      },
      "execution_count": null,
      "outputs": [
        {
          "output_type": "stream",
          "name": "stdout",
          "text": [
            "matrix a is:\n",
            "[[1 2]\n",
            " [3 4]]\n",
            "matrix b is :\n",
            "[[21 46]\n",
            " [78 94]]\n",
            "product of two matrixes is\n",
            "[[177 234]\n",
            " [375 514]]\n"
          ]
        }
      ]
    },
    {
      "cell_type": "code",
      "source": [
        "b=np.array([21,46,78,94]).reshape(2,2)\n",
        "print(\"matrix a is:\")\n",
        "print(a)\n",
        "a=np.arange(1,5).reshape(2,2)\n",
        "print(\"matrix b is :\")\n",
        "print(b)\n",
        "print(\"product of two matrixes is\")\n",
        "print(a.dot(b))# matrix multiplication\n"
      ],
      "metadata": {
        "colab": {
          "base_uri": "https://localhost:8080/"
        },
        "id": "IyMayJr2n5YM",
        "outputId": "7eb4483d-297a-4dda-bd47-ca67d90ade21"
      },
      "execution_count": null,
      "outputs": [
        {
          "output_type": "stream",
          "name": "stdout",
          "text": [
            "matrix a is:\n",
            "[[1 2]\n",
            " [3 4]]\n",
            "matrix b is :\n",
            "[[21 46]\n",
            " [78 94]]\n",
            "product of two matrixes is\n",
            "[[177 234]\n",
            " [375 514]]\n"
          ]
        }
      ]
    },
    {
      "cell_type": "code",
      "source": [
        "b=np.array([21,46,78,94]).reshape(2,2)\n",
        "print(\"max of b:\",b.max())# max of array\n",
        "print(\"min of b:\",b.min())# min of array\n"
      ],
      "metadata": {
        "colab": {
          "base_uri": "https://localhost:8080/"
        },
        "id": "64n0ByOZoK0O",
        "outputId": "4701c286-db77-433e-849e-fc74f66479c8"
      },
      "execution_count": null,
      "outputs": [
        {
          "output_type": "stream",
          "name": "stdout",
          "text": [
            "max of b: 94\n",
            "min of b: 21\n"
          ]
        }
      ]
    },
    {
      "cell_type": "code",
      "source": [
        "b=np.array([21,46,78,94]).reshape(2,2)\n",
        "print(\"matrix b is:\")\n",
        "print(b)\n",
        "print(\"cloumn  max elements is:\")\n",
        "print(b.max(axis=0)) #max element in every coloumn\n",
        "print(\"row  max elements is:\")\n",
        "print(b.max(axis=1)) #max element in every row\n",
        "print(\"cloumn  min elements is:\")\n",
        "print(b.min(axis=0)) # min element in every coloumn\n",
        "print(\"row  min elements is:\")\n",
        "print(b.min(axis=1)) # min element in every row"
      ],
      "metadata": {
        "colab": {
          "base_uri": "https://localhost:8080/"
        },
        "id": "kMeiESlUolCq",
        "outputId": "b172946a-86c2-4c6e-9f4b-91b54227db08"
      },
      "execution_count": null,
      "outputs": [
        {
          "output_type": "stream",
          "name": "stdout",
          "text": [
            "matrix a is:\n",
            "[[21 46]\n",
            " [78 94]]\n",
            "cloumn  max elements is:\n",
            "[78 94]\n",
            "row  max elements is:\n",
            "[46 94]\n",
            "cloumn  min elements is:\n",
            "[21 46]\n",
            "row  min elements is:\n",
            "[21 78]\n"
          ]
        }
      ]
    },
    {
      "cell_type": "code",
      "source": [
        "# Joining Arrays or Stacking Arrays\n",
        "b=np.array([21,46,78,94]).reshape(2,2)\n",
        "print(\"matrix b is :\")\n",
        "print(b)\n",
        "a=np.arange(1,5).reshape(2,2)\n",
        "print(\"matrix a is :\")\n",
        "print(a)\n",
        "print(\"after  vertically stacking arrays : \")\n",
        "print(np.vstack((a,b))) # vertical stacking arrays\n",
        "print(\"after  horizantal stacking arrays :\")\n",
        "print(np.hstack((a,b))) # horizantal stacking arrays\n",
        "print(\"after  axis=0 stacking arrays :\")\n",
        "print(np.stack((a,b),axis=0)) # axis=0 stacking arrays\n",
        "print(\"after  axis=1 stacking arrays :\")\n",
        "print(np.stack((a,b),axis=1)) # axis=1 stacking arrays\n",
        "print(\"after  dstacking arrays :\")\n",
        "print(np.dstack((a,b))) # dimensional stack rows->columns and columns->rows\n",
        "\n"
      ],
      "metadata": {
        "colab": {
          "base_uri": "https://localhost:8080/"
        },
        "id": "T2GNXVRaqQIb",
        "outputId": "ad61b303-4a5a-4beb-b94a-b0b02393d7c9"
      },
      "execution_count": null,
      "outputs": [
        {
          "output_type": "stream",
          "name": "stdout",
          "text": [
            "matrix b is :\n",
            "[[21 46]\n",
            " [78 94]]\n",
            "matrix a is :\n",
            "[[1 2]\n",
            " [3 4]]\n",
            "after  vertically stacking arrays : \n",
            "[[ 1  2]\n",
            " [ 3  4]\n",
            " [21 46]\n",
            " [78 94]]\n",
            "after  horizantal stacking arrays :\n",
            "[[ 1  2 21 46]\n",
            " [ 3  4 78 94]]\n",
            "after  axis=0 stacking arrays :\n",
            "[[[ 1  2]\n",
            "  [ 3  4]]\n",
            "\n",
            " [[21 46]\n",
            "  [78 94]]]\n",
            "after  axis=1 stacking arrays :\n",
            "[[[ 1  2]\n",
            "  [21 46]]\n",
            "\n",
            " [[ 3  4]\n",
            "  [78 94]]]\n",
            "after  dstacking arrays :\n",
            "[[[ 1 21]\n",
            "  [ 2 46]]\n",
            "\n",
            " [[ 3 78]\n",
            "  [ 4 94]]]\n"
          ]
        }
      ]
    },
    {
      "cell_type": "code",
      "source": [
        "#splitting arrays\n",
        "b=np.array([21,46,78,94]).reshape(2,2)\n",
        "print(\"matrix b is :\")\n",
        "print(b)\n",
        "print(\"after splitting vertically :\")\n",
        "print(np.vsplit(a,2))\n",
        "print(\"after splitting horizantally :\")\n",
        "np.hsplit(a,2)\n"
      ],
      "metadata": {
        "colab": {
          "base_uri": "https://localhost:8080/"
        },
        "id": "dVCKwbFstJrY",
        "outputId": "25b23b11-7491-42ee-c8b2-af22ad89c792"
      },
      "execution_count": null,
      "outputs": [
        {
          "output_type": "stream",
          "name": "stdout",
          "text": [
            "matrix b is :\n",
            "[[21 46]\n",
            " [78 94]]\n",
            "after splitting vertically :\n",
            "[array([[1, 2]]), array([[3, 4]])]\n",
            "after splitting horizantally :\n"
          ]
        },
        {
          "output_type": "execute_result",
          "data": {
            "text/plain": [
              "[array([[1],\n",
              "        [3]]),\n",
              " array([[2],\n",
              "        [4]])]"
            ]
          },
          "metadata": {},
          "execution_count": 62
        }
      ]
    },
    {
      "cell_type": "code",
      "source": [
        "b=np.arange(18).reshape(6,3)\n",
        "print(\"matrix b is :\")\n",
        "print(b)\n",
        "print(\"after splitting vertically :\")\n",
        "print((np.vsplit(a,(3,2))))\n",
        "print(\"after splitting horizantally :\")\n",
        "(np.hsplit(a,(2,5)))"
      ],
      "metadata": {
        "colab": {
          "base_uri": "https://localhost:8080/"
        },
        "id": "15OrxzQdx0jT",
        "outputId": "5d6c99f2-2a7d-4ef1-97c2-733de2c620b7"
      },
      "execution_count": null,
      "outputs": [
        {
          "output_type": "stream",
          "name": "stdout",
          "text": [
            "matrix b is :\n",
            "[[ 0  1  2]\n",
            " [ 3  4  5]\n",
            " [ 6  7  8]\n",
            " [ 9 10 11]\n",
            " [12 13 14]\n",
            " [15 16 17]]\n",
            "after splitting vertically :\n",
            "[array([[1, 2],\n",
            "       [3, 4]]), array([], shape=(0, 2), dtype=int64), array([], shape=(0, 2), dtype=int64)]\n",
            "after splitting horizantally :\n"
          ]
        },
        {
          "output_type": "execute_result",
          "data": {
            "text/plain": [
              "[array([[1, 2],\n",
              "        [3, 4]]),\n",
              " array([], shape=(2, 0), dtype=int64),\n",
              " array([], shape=(2, 0), dtype=int64)]"
            ]
          },
          "metadata": {},
          "execution_count": 69
        }
      ]
    },
    {
      "cell_type": "code",
      "source": [
        "b=np.arange(18).reshape(6,3)\n",
        "print(\"matrix b is :\")\n",
        "print(b)\n",
        "print(\"after argmax  :\")\n",
        "print((b.argmax(axis=0)))"
      ],
      "metadata": {
        "colab": {
          "base_uri": "https://localhost:8080/"
        },
        "id": "zzf9rJd94VzD",
        "outputId": "0cf28565-8f21-428f-8969-9049eccb80e5"
      },
      "execution_count": null,
      "outputs": [
        {
          "output_type": "stream",
          "name": "stdout",
          "text": [
            "matrix b is :\n",
            "[[ 0  1  2]\n",
            " [ 3  4  5]\n",
            " [ 6  7  8]\n",
            " [ 9 10 11]\n",
            " [12 13 14]\n",
            " [15 16 17]]\n",
            "after argmax  :\n",
            "[5 5 5]\n"
          ]
        }
      ]
    },
    {
      "cell_type": "code",
      "source": [
        "b=np.arange(18).reshape(6,3)\n",
        "print(\"matrix b is :\")\n",
        "print(b)\n",
        "print(\"after argmax  :\")\n",
        "print((b.argmax(axis=1)))"
      ],
      "metadata": {
        "colab": {
          "base_uri": "https://localhost:8080/"
        },
        "id": "sYmDTKpr5BQi",
        "outputId": "f71a99e3-67c5-4ef9-b58d-88cafd411e45"
      },
      "execution_count": null,
      "outputs": [
        {
          "output_type": "stream",
          "name": "stdout",
          "text": [
            "matrix b is :\n",
            "[[ 0  1  2]\n",
            " [ 3  4  5]\n",
            " [ 6  7  8]\n",
            " [ 9 10 11]\n",
            " [12 13 14]\n",
            " [15 16 17]]\n",
            "after argmax  :\n",
            "[2 2 2 2 2 2]\n"
          ]
        }
      ]
    },
    {
      "cell_type": "code",
      "source": [
        "b=np.arange(18).reshape(6,3)\n",
        "print(\"matrix b is :\")\n",
        "print(b)\n",
        "print(\"after argmin  :\")\n",
        "print((b.argmin(axis=0)))"
      ],
      "metadata": {
        "colab": {
          "base_uri": "https://localhost:8080/"
        },
        "id": "yxHw9O4g5YOa",
        "outputId": "e0b489d9-2584-48f8-e162-f72200ea934d"
      },
      "execution_count": null,
      "outputs": [
        {
          "output_type": "stream",
          "name": "stdout",
          "text": [
            "matrix b is :\n",
            "[[ 0  1  2]\n",
            " [ 3  4  5]\n",
            " [ 6  7  8]\n",
            " [ 9 10 11]\n",
            " [12 13 14]\n",
            " [15 16 17]]\n",
            "after argmin  :\n",
            "[0 0 0]\n"
          ]
        }
      ]
    },
    {
      "cell_type": "code",
      "source": [
        "b=np.arange(18).reshape(6,3)\n",
        "print(\"matrix b is :\")\n",
        "print(b)\n",
        "print(\"after argmin  :\")\n",
        "print((b.argmin(axis=1)))"
      ],
      "metadata": {
        "colab": {
          "base_uri": "https://localhost:8080/"
        },
        "id": "fuEUVyL75iLX",
        "outputId": "d6900296-3021-4119-d87e-15b9bae88f89"
      },
      "execution_count": null,
      "outputs": [
        {
          "output_type": "stream",
          "name": "stdout",
          "text": [
            "matrix b is :\n",
            "[[ 0  1  2]\n",
            " [ 3  4  5]\n",
            " [ 6  7  8]\n",
            " [ 9 10 11]\n",
            " [12 13 14]\n",
            " [15 16 17]]\n",
            "after argmin  :\n",
            "[0 0 0 0 0 0]\n"
          ]
        }
      ]
    },
    {
      "cell_type": "code",
      "source": [
        "b=np.arange(18).reshape(6,3)\n",
        "print(\"mean is :\",np.mean(b))\n",
        "print(\"median :\",np.median(b))\n",
        "print(\"varience :\",np.var(b))\n",
        "print(\"standard deviation :\",np.std(b))"
      ],
      "metadata": {
        "colab": {
          "base_uri": "https://localhost:8080/"
        },
        "id": "rllWCnXz8yA4",
        "outputId": "9e127645-4d32-44dd-f8d4-9c731045213a"
      },
      "execution_count": null,
      "outputs": [
        {
          "output_type": "stream",
          "name": "stdout",
          "text": [
            "mean is : 8.5\n",
            "median : 8.5\n",
            "varience : 26.916666666666668\n",
            "standard deviation : 5.188127472091127\n"
          ]
        }
      ]
    },
    {
      "cell_type": "code",
      "source": [
        "a=np.pi\n",
        "a"
      ],
      "metadata": {
        "colab": {
          "base_uri": "https://localhost:8080/"
        },
        "id": "UcE7wUTZ9VGv",
        "outputId": "f4bd4e35-c83f-4b88-b94a-f7540dda83f2"
      },
      "execution_count": null,
      "outputs": [
        {
          "output_type": "execute_result",
          "data": {
            "text/plain": [
              "3.141592653589793"
            ]
          },
          "metadata": {},
          "execution_count": 79
        }
      ]
    },
    {
      "cell_type": "code",
      "source": [
        "np.rad2deg(a)"
      ],
      "metadata": {
        "colab": {
          "base_uri": "https://localhost:8080/"
        },
        "id": "MHGyJuB39elK",
        "outputId": "82e267e8-842c-44dc-a075-734bd2b50dd4"
      },
      "execution_count": null,
      "outputs": [
        {
          "output_type": "execute_result",
          "data": {
            "text/plain": [
              "180.0"
            ]
          },
          "metadata": {},
          "execution_count": 80
        }
      ]
    },
    {
      "cell_type": "code",
      "source": [
        "c=np.array([0,30,45,60,90,120,180])\n",
        "np.deg2rad(c)"
      ],
      "metadata": {
        "colab": {
          "base_uri": "https://localhost:8080/"
        },
        "id": "xHHy-__o9ouZ",
        "outputId": "4ee92ad7-dfa4-4837-d392-d0eb4140066a"
      },
      "execution_count": null,
      "outputs": [
        {
          "output_type": "execute_result",
          "data": {
            "text/plain": [
              "array([0.        , 0.52359878, 0.78539816, 1.04719755, 1.57079633,\n",
              "       2.0943951 , 3.14159265])"
            ]
          },
          "metadata": {},
          "execution_count": 83
        }
      ]
    },
    {
      "cell_type": "markdown",
      "source": [],
      "metadata": {
        "id": "2Cy_V40Obyux"
      }
    },
    {
      "cell_type": "code",
      "source": [
        "np.sin(c)"
      ],
      "metadata": {
        "colab": {
          "base_uri": "https://localhost:8080/"
        },
        "id": "tEWxFKqC98sh",
        "outputId": "1f91ed47-b05b-43d4-e1a8-ae6bf5cde20d"
      },
      "execution_count": null,
      "outputs": [
        {
          "output_type": "execute_result",
          "data": {
            "text/plain": [
              "array([ 0.        , -0.98803162,  0.85090352, -0.30481062,  0.89399666,\n",
              "        0.58061118, -0.80115264])"
            ]
          },
          "metadata": {},
          "execution_count": 84
        }
      ]
    },
    {
      "cell_type": "code",
      "source": [
        "np.cos(c)"
      ],
      "metadata": {
        "colab": {
          "base_uri": "https://localhost:8080/"
        },
        "id": "2HZzO89w-L2K",
        "outputId": "3490fa5b-ba63-4f62-f8a3-234b060cfa24"
      },
      "execution_count": null,
      "outputs": [
        {
          "output_type": "execute_result",
          "data": {
            "text/plain": [
              "array([ 1.        ,  0.15425145,  0.52532199, -0.95241298, -0.44807362,\n",
              "        0.81418097, -0.59846007])"
            ]
          },
          "metadata": {},
          "execution_count": 85
        }
      ]
    },
    {
      "cell_type": "code",
      "source": [
        "np.tan(c)"
      ],
      "metadata": {
        "colab": {
          "base_uri": "https://localhost:8080/"
        },
        "id": "mqFcGwPX-S0B",
        "outputId": "cd93461e-540d-4e9a-ceae-20819b564471"
      },
      "execution_count": null,
      "outputs": [
        {
          "output_type": "execute_result",
          "data": {
            "text/plain": [
              "array([ 0.        , -6.4053312 ,  1.61977519,  0.32004039, -1.99520041,\n",
              "        0.71312301,  1.33869021])"
            ]
          },
          "metadata": {},
          "execution_count": 86
        }
      ]
    },
    {
      "cell_type": "code",
      "source": [
        "np.arcsin(c)"
      ],
      "metadata": {
        "colab": {
          "base_uri": "https://localhost:8080/"
        },
        "id": "H0xL4tsF-WzA",
        "outputId": "11e398ad-54cb-48b2-faa1-c1b8d38d24c1"
      },
      "execution_count": null,
      "outputs": [
        {
          "output_type": "stream",
          "name": "stderr",
          "text": [
            "<ipython-input-90-6473c7b6e743>:1: RuntimeWarning: invalid value encountered in arcsin\n",
            "  np.arcsin(c)\n"
          ]
        },
        {
          "output_type": "execute_result",
          "data": {
            "text/plain": [
              "array([ 0., nan, nan, nan, nan, nan, nan])"
            ]
          },
          "metadata": {},
          "execution_count": 90
        }
      ]
    },
    {
      "cell_type": "code",
      "source": [
        "np.arccos(c)"
      ],
      "metadata": {
        "colab": {
          "base_uri": "https://localhost:8080/"
        },
        "id": "v9c3hujC-yte",
        "outputId": "9d6fba19-73ef-46ac-f27f-39b086dda6dc"
      },
      "execution_count": null,
      "outputs": [
        {
          "output_type": "stream",
          "name": "stderr",
          "text": [
            "<ipython-input-91-387b33b2cf93>:1: RuntimeWarning: invalid value encountered in arccos\n",
            "  np.arccos(c)\n"
          ]
        },
        {
          "output_type": "execute_result",
          "data": {
            "text/plain": [
              "array([1.57079633,        nan,        nan,        nan,        nan,\n",
              "              nan,        nan])"
            ]
          },
          "metadata": {},
          "execution_count": 91
        }
      ]
    },
    {
      "cell_type": "code",
      "source": [
        "np.arctan(c)"
      ],
      "metadata": {
        "colab": {
          "base_uri": "https://localhost:8080/"
        },
        "id": "GtYZf1IF-2_g",
        "outputId": "d4b6cc02-f6da-4e20-a247-da26088b67e5"
      },
      "execution_count": null,
      "outputs": [
        {
          "output_type": "execute_result",
          "data": {
            "text/plain": [
              "array([0.        , 1.53747533, 1.54857776, 1.5541312 , 1.55968567,\n",
              "       1.56246319, 1.56524083])"
            ]
          },
          "metadata": {},
          "execution_count": 92
        }
      ]
    },
    {
      "cell_type": "code",
      "source": [
        "#search of array\n",
        "import numpy as np\n",
        "a=np.array([45,67,23,97,38])\n",
        "print(np.where(a%2==0))\n",
        "print(np.where(a==97))"
      ],
      "metadata": {
        "colab": {
          "base_uri": "https://localhost:8080/"
        },
        "id": "3OY14McMRMqb",
        "outputId": "cf72e772-9e90-41b8-b3ce-13b3b87de9bf"
      },
      "execution_count": null,
      "outputs": [
        {
          "output_type": "stream",
          "name": "stdout",
          "text": [
            "(array([4]),)\n",
            "(array([3]),)\n"
          ]
        }
      ]
    },
    {
      "cell_type": "code",
      "source": [
        "a=np.array([8,9,67,89,93])\n",
        "print(np.searchsorted(a,56))"
      ],
      "metadata": {
        "colab": {
          "base_uri": "https://localhost:8080/"
        },
        "id": "s67UCsT0ShV_",
        "outputId": "48a59c72-5e63-402f-ab8f-b1a1492880ce"
      },
      "execution_count": null,
      "outputs": [
        {
          "output_type": "stream",
          "name": "stdout",
          "text": [
            "2\n"
          ]
        }
      ]
    },
    {
      "cell_type": "code",
      "source": [
        "import numpy as np\n",
        "a=np.array([22,34.47,56.11,78,32])\n",
        "b=np.array([3,23,67,22,27])\n",
        "#arthimetic operations\n",
        "print(np.sort(a))\n",
        "print(np.sort(b))\n",
        "print(np.add(a,b))\n",
        "print(np.subtract(a,b))\n",
        "print(np.multiply(a,b))\n",
        "print(np.divide(a,b))\n",
        "print(np.mod(a,b))\n",
        "print(divmod(a,b))\n",
        "print(np.diff(a))\n",
        "print(np.diff(b))\n",
        "#set opreations\n",
        "print(np.intersect1d(a,b))\n",
        "print(np.union1d(a,b))\n",
        "print(np.setdiff1d(a,b))\n",
        "#rounding\n",
        "print(np.trunc(a))\n",
        "print(np.fix(a))\n",
        "print(np.around(a,1))\n",
        "print(np.floor(a))\n",
        "print(np.ceil(a))\n",
        "#cummulative opeartions\n",
        "print(np.cumsum(a))\n",
        "print(np.cumprod(a))"
      ],
      "metadata": {
        "colab": {
          "base_uri": "https://localhost:8080/"
        },
        "id": "GiCl2oF0USXP",
        "outputId": "666c7e48-b104-4ce6-a193-c80eec717d79"
      },
      "execution_count": null,
      "outputs": [
        {
          "output_type": "stream",
          "name": "stdout",
          "text": [
            "[22.   32.   34.47 56.11 78.  ]\n",
            "[ 3 22 23 27 67]\n",
            "[ 25.    57.47 123.11 100.    59.  ]\n",
            "[ 19.    11.47 -10.89  56.     5.  ]\n",
            "[  66.    792.81 3759.37 1716.    864.  ]\n",
            "[7.33333333 1.49869565 0.83746269 3.54545455 1.18518519]\n",
            "[ 1.   11.47 56.11 12.    5.  ]\n",
            "(array([7., 1., 0., 3., 1.]), array([ 1.  , 11.47, 56.11, 12.  ,  5.  ]))\n",
            "[ 12.47  21.64  21.89 -46.  ]\n",
            "[ 20  44 -45   5]\n",
            "[22.]\n",
            "[ 3.   22.   23.   27.   32.   34.47 56.11 67.   78.  ]\n",
            "[32.   34.47 56.11 78.  ]\n",
            "[22. 34. 56. 78. 32.]\n",
            "[22. 34. 56. 78. 32.]\n",
            "[22.  34.5 56.1 78.  32. ]\n",
            "[22. 34. 56. 78. 32.]\n",
            "[22. 35. 57. 78. 32.]\n",
            "[ 22.    56.47 112.58 190.58 222.58]\n",
            "[2.20000000e+01 7.58340000e+02 4.25504574e+04 3.31893568e+06\n",
            " 1.06205942e+08]\n"
          ]
        }
      ]
    },
    {
      "cell_type": "code",
      "source": [
        "#lcm and gcd\n",
        "ar=np.array([12,35,23,67,3245])\n",
        "print(np.lcm.reduce(ar))\n",
        "print(np.gcd.reduce(ar))"
      ],
      "metadata": {
        "colab": {
          "base_uri": "https://localhost:8080/"
        },
        "id": "tHhaqfesbX9O",
        "outputId": "01a3aa4b-31f0-4562-8872-f9e17366a619"
      },
      "execution_count": null,
      "outputs": [
        {
          "output_type": "stream",
          "name": "stdout",
          "text": [
            "420045780\n",
            "1\n"
          ]
        }
      ]
    },
    {
      "cell_type": "code",
      "source": [
        "a=np.array([[1,2],[3,4]])\n",
        "print(np.linalg.inv(a)) # it gives inverse of matrix 'a'"
      ],
      "metadata": {
        "colab": {
          "base_uri": "https://localhost:8080/"
        },
        "id": "suPdw4iedNMW",
        "outputId": "8b6c2ca1-718c-45a8-f556-a4a240fab5b0"
      },
      "execution_count": null,
      "outputs": [
        {
          "output_type": "stream",
          "name": "stdout",
          "text": [
            "[[-2.   1. ]\n",
            " [ 1.5 -0.5]]\n"
          ]
        }
      ]
    },
    {
      "cell_type": "code",
      "source": [
        "import random as rd\n",
        "A= rd.random() # default limit 0 to 99   #rand(n)\n",
        "print(A)\n",
        "A= rd.randint(1,4)\n",
        "print(A)\n",
        "a=np.array([1,2,3])\n",
        "b=np.array([4,5,6])\n",
        "print(np.outer(a,b))    #\n",
        "#joins\n",
        "a=np.array([1,2,3])\n",
        "b=np.array([4,5,6])\n",
        "#1*4 + 2*5 + 3*6 =32\n",
        "print(np.inner(a,b))"
      ],
      "metadata": {
        "id": "bWcneIz9d7ur",
        "colab": {
          "base_uri": "https://localhost:8080/"
        },
        "outputId": "687fb6a7-c82a-422f-ff12-ab7125dbe822"
      },
      "execution_count": 3,
      "outputs": [
        {
          "output_type": "stream",
          "name": "stdout",
          "text": [
            "0.9431117257188981\n",
            "2\n",
            "[[ 4  5  6]\n",
            " [ 8 10 12]\n",
            " [12 15 18]]\n",
            "32\n"
          ]
        }
      ]
    }
  ]
}